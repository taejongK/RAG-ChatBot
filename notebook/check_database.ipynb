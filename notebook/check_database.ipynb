{
 "cells": [
  {
   "cell_type": "markdown",
   "metadata": {},
   "source": [
    "## DB test"
   ]
  },
  {
   "cell_type": "markdown",
   "metadata": {},
   "source": [
    "### Conversation DB - SQLite"
   ]
  },
  {
   "cell_type": "code",
   "execution_count": 4,
   "metadata": {},
   "outputs": [
    {
     "data": {
      "text/html": [
       "<div>\n",
       "<style scoped>\n",
       "    .dataframe tbody tr th:only-of-type {\n",
       "        vertical-align: middle;\n",
       "    }\n",
       "\n",
       "    .dataframe tbody tr th {\n",
       "        vertical-align: top;\n",
       "    }\n",
       "\n",
       "    .dataframe thead th {\n",
       "        text-align: right;\n",
       "    }\n",
       "</style>\n",
       "<table border=\"1\" class=\"dataframe\">\n",
       "  <thead>\n",
       "    <tr style=\"text-align: right;\">\n",
       "      <th></th>\n",
       "      <th>id</th>\n",
       "      <th>uuid</th>\n",
       "      <th>question</th>\n",
       "      <th>response</th>\n",
       "      <th>question_timestamp</th>\n",
       "      <th>response_timestamp</th>\n",
       "    </tr>\n",
       "  </thead>\n",
       "  <tbody>\n",
       "    <tr>\n",
       "      <th>0</th>\n",
       "      <td>1</td>\n",
       "      <td>8c145f01-66be-4f25-adb3-cd8429ce8067</td>\n",
       "      <td>ㅎㅇ</td>\n",
       "      <td>안녕하세요! 무엇을 도와드릴까요?</td>\n",
       "      <td>1740029160</td>\n",
       "      <td>1740029162</td>\n",
       "    </tr>\n",
       "    <tr>\n",
       "      <th>1</th>\n",
       "      <td>2</td>\n",
       "      <td>b23a4e50-7a8a-4765-a2cb-6f3fb3ae8d5a</td>\n",
       "      <td>안녕</td>\n",
       "      <td>안녕하세요! 무엇을 도와드릴까요?</td>\n",
       "      <td>1740029627</td>\n",
       "      <td>1740029629</td>\n",
       "    </tr>\n",
       "    <tr>\n",
       "      <th>2</th>\n",
       "      <td>3</td>\n",
       "      <td>b23a4e50-7a8a-4765-a2cb-6f3fb3ae8d5a</td>\n",
       "      <td>대화가 이어지는가?</td>\n",
       "      <td>네, 대화가 이어지고 있습니다.  무엇이 궁금하신가요?</td>\n",
       "      <td>1740029637</td>\n",
       "      <td>1740029638</td>\n",
       "    </tr>\n",
       "    <tr>\n",
       "      <th>3</th>\n",
       "      <td>4</td>\n",
       "      <td>b23a4e50-7a8a-4765-a2cb-6f3fb3ae8d5a</td>\n",
       "      <td>잘 되네</td>\n",
       "      <td>네, 잘 되고 있어서 다행입니다! 😊  다른 질문이나 필요한 것이 있으시면 언제든지...</td>\n",
       "      <td>1740029647</td>\n",
       "      <td>1740029649</td>\n",
       "    </tr>\n",
       "    <tr>\n",
       "      <th>4</th>\n",
       "      <td>5</td>\n",
       "      <td>b23a4e50-7a8a-4765-a2cb-6f3fb3ae8d5a</td>\n",
       "      <td>커피는 어떻게 만들어?</td>\n",
       "      <td>커피 만드는 방법은 여러 가지가 있는데요, 어떤 종류의 커피를 만들고 싶으신가요? ...</td>\n",
       "      <td>1740029655</td>\n",
       "      <td>1740029657</td>\n",
       "    </tr>\n",
       "  </tbody>\n",
       "</table>\n",
       "</div>"
      ],
      "text/plain": [
       "   id                                  uuid      question  \\\n",
       "0   1  8c145f01-66be-4f25-adb3-cd8429ce8067            ㅎㅇ   \n",
       "1   2  b23a4e50-7a8a-4765-a2cb-6f3fb3ae8d5a            안녕   \n",
       "2   3  b23a4e50-7a8a-4765-a2cb-6f3fb3ae8d5a    대화가 이어지는가?   \n",
       "3   4  b23a4e50-7a8a-4765-a2cb-6f3fb3ae8d5a          잘 되네   \n",
       "4   5  b23a4e50-7a8a-4765-a2cb-6f3fb3ae8d5a  커피는 어떻게 만들어?   \n",
       "\n",
       "                                            response question_timestamp  \\\n",
       "0                                 안녕하세요! 무엇을 도와드릴까요?         1740029160   \n",
       "1                                 안녕하세요! 무엇을 도와드릴까요?         1740029627   \n",
       "2                     네, 대화가 이어지고 있습니다.  무엇이 궁금하신가요?         1740029637   \n",
       "3  네, 잘 되고 있어서 다행입니다! 😊  다른 질문이나 필요한 것이 있으시면 언제든지...         1740029647   \n",
       "4  커피 만드는 방법은 여러 가지가 있는데요, 어떤 종류의 커피를 만들고 싶으신가요? ...         1740029655   \n",
       "\n",
       "  response_timestamp  \n",
       "0         1740029162  \n",
       "1         1740029629  \n",
       "2         1740029638  \n",
       "3         1740029649  \n",
       "4         1740029657  "
      ]
     },
     "execution_count": 4,
     "metadata": {},
     "output_type": "execute_result"
    }
   ],
   "source": [
    "import sqlite3\n",
    "from datetime import datetime\n",
    "import pandas as pd\n",
    "\n",
    "path = \"/home/taejong_kim/workspace/rag-lab/database/conversation/conversation_2025-02-20.db\"\n",
    "conn = sqlite3.connect(path)\n",
    "\n",
    "query = \"SELECT * FROM chat_history\"\n",
    "df = pd.read_sql_query(query, conn)\n",
    "conn.close()\n",
    "\n",
    "df"
   ]
  },
  {
   "cell_type": "code",
   "execution_count": 2,
   "metadata": {},
   "outputs": [
    {
     "data": {
      "text/html": [
       "<div>\n",
       "<style scoped>\n",
       "    .dataframe tbody tr th:only-of-type {\n",
       "        vertical-align: middle;\n",
       "    }\n",
       "\n",
       "    .dataframe tbody tr th {\n",
       "        vertical-align: top;\n",
       "    }\n",
       "\n",
       "    .dataframe thead th {\n",
       "        text-align: right;\n",
       "    }\n",
       "</style>\n",
       "<table border=\"1\" class=\"dataframe\">\n",
       "  <thead>\n",
       "    <tr style=\"text-align: right;\">\n",
       "      <th></th>\n",
       "      <th>id</th>\n",
       "      <th>uuid</th>\n",
       "      <th>question</th>\n",
       "      <th>response</th>\n",
       "      <th>question_timestamp</th>\n",
       "      <th>response_timestamp</th>\n",
       "    </tr>\n",
       "  </thead>\n",
       "  <tbody>\n",
       "    <tr>\n",
       "      <th>0</th>\n",
       "      <td>1</td>\n",
       "      <td>8c145f01-66be-4f25-adb3-cd8429ce8067</td>\n",
       "      <td>ㅎㅇ</td>\n",
       "      <td>안녕하세요! 무엇을 도와드릴까요?</td>\n",
       "      <td>1740029160</td>\n",
       "      <td>1740029162</td>\n",
       "    </tr>\n",
       "  </tbody>\n",
       "</table>\n",
       "</div>"
      ],
      "text/plain": [
       "   id                                  uuid question            response  \\\n",
       "0   1  8c145f01-66be-4f25-adb3-cd8429ce8067       ㅎㅇ  안녕하세요! 무엇을 도와드릴까요?   \n",
       "\n",
       "  question_timestamp response_timestamp  \n",
       "0         1740029160         1740029162  "
      ]
     },
     "execution_count": 2,
     "metadata": {},
     "output_type": "execute_result"
    }
   ],
   "source": [
    "df"
   ]
  }
 ],
 "metadata": {
  "kernelspec": {
   "display_name": "rag",
   "language": "python",
   "name": "python3"
  },
  "language_info": {
   "codemirror_mode": {
    "name": "ipython",
    "version": 3
   },
   "file_extension": ".py",
   "mimetype": "text/x-python",
   "name": "python",
   "nbconvert_exporter": "python",
   "pygments_lexer": "ipython3",
   "version": "3.12.3"
  }
 },
 "nbformat": 4,
 "nbformat_minor": 2
}
