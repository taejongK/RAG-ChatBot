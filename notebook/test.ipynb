{
 "cells": [
  {
   "cell_type": "code",
   "execution_count": 8,
   "metadata": {},
   "outputs": [
    {
     "data": {
      "text/plain": [
       "1739862070"
      ]
     },
     "execution_count": 8,
     "metadata": {},
     "output_type": "execute_result"
    }
   ],
   "source": [
    "from datetime import datetime\n",
    "\n",
    "round(datetime.now().timestamp())"
   ]
  },
  {
   "cell_type": "code",
   "execution_count": 10,
   "metadata": {},
   "outputs": [
    {
     "data": {
      "text/plain": [
       "1739862685"
      ]
     },
     "execution_count": 10,
     "metadata": {},
     "output_type": "execute_result"
    }
   ],
   "source": [
    "(int(datetime.now().timestamp()))"
   ]
  },
  {
   "cell_type": "code",
   "execution_count": null,
   "metadata": {},
   "outputs": [],
   "source": [
    "from sqlalchemy import create_engine, Column, Integer, String, Text, DateTime, func\n",
    "from sqlalchemy.orm import sessionmaker, declarative_base\n",
    "from datetime import datetime\n",
    "\n",
    "# 데이터베이스 설정\n",
    "date = datetime.now().strftime(\"%Y-%m-%d\")\n",
    "DATABASE_URL = f\"sqlite:///./chatbot.db_{date}\"\n",
    "\n",
    "engine = create_engine(DATABASE_URL, connect_args={\"check_same_thread\": False})\n",
    "SessionLocal = sessionmaker(autocommit=False, autoflush=False, bind=engine)\n",
    "\n",
    "Base = declarative_base()\n",
    "\n",
    "# 🟢 1️⃣ 채팅 기록 테이블 모델 정의\n",
    "\n",
    "\n",
    "class ChatHistory(Base):\n",
    "    __tablename__ = \"chat_history\"\n",
    "\n",
    "    id = Column(Integer, primary_key=True, autoincrement=True)  # 자동 증가 PK\n",
    "    uuid = Column(String, nullable=False, index=True)  # 챗팅룸 ID\n",
    "    question = Column(Text, nullable=False)  # 사용자 질문\n",
    "    response = Column(Text, nullable=False)  # 챗봇 응답\n",
    "    question_timestamp = Column(DateTime, default=func.now())  # 질문 시간\n",
    "    response_timestamp = Column(DateTime, default=func.now())  # 응답 시간\n",
    "\n",
    "\n",
    "# 테이블 생성\n",
    "Base.metadata.create_all(bind=engine)"
   ]
  },
  {
   "cell_type": "code",
   "execution_count": 13,
   "metadata": {},
   "outputs": [
    {
     "data": {
      "text/plain": [
       "'2025-02-18'"
      ]
     },
     "execution_count": 13,
     "metadata": {},
     "output_type": "execute_result"
    }
   ],
   "source": [
    "datetime.now().strftime(\"%Y-%m-%d\")"
   ]
  },
  {
   "cell_type": "code",
   "execution_count": 31,
   "metadata": {},
   "outputs": [
    {
     "data": {
      "text/html": [
       "<div>\n",
       "<style scoped>\n",
       "    .dataframe tbody tr th:only-of-type {\n",
       "        vertical-align: middle;\n",
       "    }\n",
       "\n",
       "    .dataframe tbody tr th {\n",
       "        vertical-align: top;\n",
       "    }\n",
       "\n",
       "    .dataframe thead th {\n",
       "        text-align: right;\n",
       "    }\n",
       "</style>\n",
       "<table border=\"1\" class=\"dataframe\">\n",
       "  <thead>\n",
       "    <tr style=\"text-align: right;\">\n",
       "      <th></th>\n",
       "      <th>id</th>\n",
       "      <th>uuid</th>\n",
       "      <th>question</th>\n",
       "      <th>response</th>\n",
       "      <th>question_timestamp</th>\n",
       "      <th>response_timestamp</th>\n",
       "    </tr>\n",
       "  </thead>\n",
       "  <tbody>\n",
       "    <tr>\n",
       "      <th>0</th>\n",
       "      <td>1</td>\n",
       "      <td>test-4412</td>\n",
       "      <td>안녕</td>\n",
       "      <td>안녕하세요</td>\n",
       "      <td>1739865557</td>\n",
       "      <td>1739865557</td>\n",
       "    </tr>\n",
       "  </tbody>\n",
       "</table>\n",
       "</div>"
      ],
      "text/plain": [
       "   id       uuid question response question_timestamp response_timestamp\n",
       "0   1  test-4412       안녕    안녕하세요         1739865557         1739865557"
      ]
     },
     "execution_count": 31,
     "metadata": {},
     "output_type": "execute_result"
    }
   ],
   "source": [
    "import sqlite3\n",
    "from datetime import datetime\n",
    "import pandas as pd\n",
    "\n",
    "conn = sqlite3.connect(\"chatbot_2025-02-18.db\")\n",
    "\n",
    "query = \"SELECT * FROM chat_history\"\n",
    "df = pd.read_sql_query(query, conn)\n",
    "conn.close()\n",
    "\n",
    "df.head()"
   ]
  },
  {
   "cell_type": "code",
   "execution_count": 49,
   "metadata": {},
   "outputs": [
    {
     "data": {
      "text/plain": [
       "'/home/taejong_kim/workspace/rag-lab/database/conversation'"
      ]
     },
     "execution_count": 49,
     "metadata": {},
     "output_type": "execute_result"
    }
   ],
   "source": [
    "import os\n",
    "\n",
    "CURRENT_PATH = os.getcwd()\n",
    "PARENT_PATH = os.path.dirname(CURRENT_PATH)\n",
    "DATABASE_PATH = os.path.join(PARENT_PATH, 'database')\n",
    "CONVERSATION_DATABASE_PATH = os.path.join(DATABASE_PATH, 'conversation')\n",
    "\n",
    "CONVERSATION_DATABASE_PATH"
   ]
  },
  {
   "cell_type": "code",
   "execution_count": 54,
   "metadata": {},
   "outputs": [
    {
     "data": {
      "text/plain": [
       "'/home/taejong_kim/workspace/rag-lab/database/conversation/chatbot_2025-02-18.db'"
      ]
     },
     "execution_count": 54,
     "metadata": {},
     "output_type": "execute_result"
    }
   ],
   "source": [
    "path"
   ]
  },
  {
   "cell_type": "code",
   "execution_count": 62,
   "metadata": {},
   "outputs": [
    {
     "data": {
      "text/html": [
       "<div>\n",
       "<style scoped>\n",
       "    .dataframe tbody tr th:only-of-type {\n",
       "        vertical-align: middle;\n",
       "    }\n",
       "\n",
       "    .dataframe tbody tr th {\n",
       "        vertical-align: top;\n",
       "    }\n",
       "\n",
       "    .dataframe thead th {\n",
       "        text-align: right;\n",
       "    }\n",
       "</style>\n",
       "<table border=\"1\" class=\"dataframe\">\n",
       "  <thead>\n",
       "    <tr style=\"text-align: right;\">\n",
       "      <th></th>\n",
       "      <th>id</th>\n",
       "      <th>uuid</th>\n",
       "      <th>question</th>\n",
       "      <th>response</th>\n",
       "      <th>question_timestamp</th>\n",
       "      <th>response_timestamp</th>\n",
       "    </tr>\n",
       "  </thead>\n",
       "  <tbody>\n",
       "    <tr>\n",
       "      <th>0</th>\n",
       "      <td>1</td>\n",
       "      <td>3952c572-c041-4935-8c21-2006dcaf861b</td>\n",
       "      <td>안녕</td>\n",
       "      <td>안녕하세요</td>\n",
       "      <td>1739941123</td>\n",
       "      <td>1739941123</td>\n",
       "    </tr>\n",
       "    <tr>\n",
       "      <th>1</th>\n",
       "      <td>2</td>\n",
       "      <td>3952c572-c041-4935-8c21-2006dcaf861b</td>\n",
       "      <td>난 바보인가봐</td>\n",
       "      <td>죄송합니다. 이해할 수 없습니다.</td>\n",
       "      <td>1739941127</td>\n",
       "      <td>1739941127</td>\n",
       "    </tr>\n",
       "    <tr>\n",
       "      <th>2</th>\n",
       "      <td>3</td>\n",
       "      <td>3952c572-c041-4935-8c21-2006dcaf861b</td>\n",
       "      <td>이걸 모르고 몇시간을 삽질한거야</td>\n",
       "      <td>죄송합니다. 이해할 수 없습니다.</td>\n",
       "      <td>1739941133</td>\n",
       "      <td>1739941133</td>\n",
       "    </tr>\n",
       "    <tr>\n",
       "      <th>3</th>\n",
       "      <td>4</td>\n",
       "      <td>3952c572-c041-4935-8c21-2006dcaf861b</td>\n",
       "      <td>실시간 추가되니?</td>\n",
       "      <td>죄송합니다. 이해할 수 없습니다.</td>\n",
       "      <td>1739941141</td>\n",
       "      <td>1739941141</td>\n",
       "    </tr>\n",
       "    <tr>\n",
       "      <th>4</th>\n",
       "      <td>5</td>\n",
       "      <td>3952c572-c041-4935-8c21-2006dcaf861b</td>\n",
       "      <td>너무 잘되네....</td>\n",
       "      <td>죄송합니다. 이해할 수 없습니다.</td>\n",
       "      <td>1739941146</td>\n",
       "      <td>1739941146</td>\n",
       "    </tr>\n",
       "  </tbody>\n",
       "</table>\n",
       "</div>"
      ],
      "text/plain": [
       "   id                                  uuid           question  \\\n",
       "0   1  3952c572-c041-4935-8c21-2006dcaf861b                 안녕   \n",
       "1   2  3952c572-c041-4935-8c21-2006dcaf861b            난 바보인가봐   \n",
       "2   3  3952c572-c041-4935-8c21-2006dcaf861b  이걸 모르고 몇시간을 삽질한거야   \n",
       "3   4  3952c572-c041-4935-8c21-2006dcaf861b          실시간 추가되니?   \n",
       "4   5  3952c572-c041-4935-8c21-2006dcaf861b         너무 잘되네....   \n",
       "\n",
       "             response question_timestamp response_timestamp  \n",
       "0               안녕하세요         1739941123         1739941123  \n",
       "1  죄송합니다. 이해할 수 없습니다.         1739941127         1739941127  \n",
       "2  죄송합니다. 이해할 수 없습니다.         1739941133         1739941133  \n",
       "3  죄송합니다. 이해할 수 없습니다.         1739941141         1739941141  \n",
       "4  죄송합니다. 이해할 수 없습니다.         1739941146         1739941146  "
      ]
     },
     "execution_count": 62,
     "metadata": {},
     "output_type": "execute_result"
    }
   ],
   "source": [
    "import sqlite3\n",
    "from datetime import datetime\n",
    "import pandas as pd\n",
    "\n",
    "path = \"/home/taejong_kim/workspace/rag-lab/database/conversation/conversation_2025-02-19.db\"\n",
    "conn = sqlite3.connect(path)\n",
    "\n",
    "query = \"SELECT * FROM chat_history\"\n",
    "df = pd.read_sql_query(query, conn)\n",
    "conn.close()\n",
    "\n",
    "df"
   ]
  },
  {
   "cell_type": "code",
   "execution_count": 56,
   "metadata": {},
   "outputs": [
    {
     "data": {
      "text/html": [
       "<div>\n",
       "<style scoped>\n",
       "    .dataframe tbody tr th:only-of-type {\n",
       "        vertical-align: middle;\n",
       "    }\n",
       "\n",
       "    .dataframe tbody tr th {\n",
       "        vertical-align: top;\n",
       "    }\n",
       "\n",
       "    .dataframe thead th {\n",
       "        text-align: right;\n",
       "    }\n",
       "</style>\n",
       "<table border=\"1\" class=\"dataframe\">\n",
       "  <thead>\n",
       "    <tr style=\"text-align: right;\">\n",
       "      <th></th>\n",
       "      <th>id</th>\n",
       "      <th>uuid</th>\n",
       "      <th>question</th>\n",
       "      <th>response</th>\n",
       "      <th>question_timestamp</th>\n",
       "      <th>response_timestamp</th>\n",
       "    </tr>\n",
       "  </thead>\n",
       "  <tbody>\n",
       "  </tbody>\n",
       "</table>\n",
       "</div>"
      ],
      "text/plain": [
       "Empty DataFrame\n",
       "Columns: [id, uuid, question, response, question_timestamp, response_timestamp]\n",
       "Index: []"
      ]
     },
     "execution_count": 56,
     "metadata": {},
     "output_type": "execute_result"
    }
   ],
   "source": [
    "import sqlite3\n",
    "from datetime import datetime\n",
    "import pandas as pd\n",
    "\n",
    "path = \"/home/taejong_kim/workspace/rag-lab/database/conversation/conversation_2025-02-19, 13-46-24.db\"\n",
    "conn = sqlite3.connect(path)\n",
    "\n",
    "query = \"SELECT * FROM chat_history\"\n",
    "df = pd.read_sql_query(query, conn)\n",
    "conn.close()\n",
    "\n",
    "df.head()"
   ]
  },
  {
   "cell_type": "code",
   "execution_count": null,
   "metadata": {},
   "outputs": [],
   "source": [
    "from sqlalchemy import MetaData, Table\n",
    "\n",
    "metadata = MetaData()"
   ]
  },
  {
   "cell_type": "code",
   "execution_count": null,
   "metadata": {},
   "outputs": [],
   "source": []
  },
  {
   "cell_type": "code",
   "execution_count": null,
   "metadata": {},
   "outputs": [],
   "source": []
  }
 ],
 "metadata": {
  "kernelspec": {
   "display_name": "rag",
   "language": "python",
   "name": "python3"
  },
  "language_info": {
   "codemirror_mode": {
    "name": "ipython",
    "version": 3
   },
   "file_extension": ".py",
   "mimetype": "text/x-python",
   "name": "python",
   "nbconvert_exporter": "python",
   "pygments_lexer": "ipython3",
   "version": "3.12.3"
  }
 },
 "nbformat": 4,
 "nbformat_minor": 2
}
