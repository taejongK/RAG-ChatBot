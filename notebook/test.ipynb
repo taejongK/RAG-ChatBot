{
 "cells": [
  {
   "cell_type": "code",
   "execution_count": 8,
   "metadata": {},
   "outputs": [
    {
     "data": {
      "text/plain": [
       "1739862070"
      ]
     },
     "execution_count": 8,
     "metadata": {},
     "output_type": "execute_result"
    }
   ],
   "source": [
    "from datetime import datetime\n",
    "\n",
    "round(datetime.now().timestamp())"
   ]
  },
  {
   "cell_type": "code",
   "execution_count": 10,
   "metadata": {},
   "outputs": [
    {
     "data": {
      "text/plain": [
       "1739862685"
      ]
     },
     "execution_count": 10,
     "metadata": {},
     "output_type": "execute_result"
    }
   ],
   "source": [
    "(int(datetime.now().timestamp()))"
   ]
  },
  {
   "cell_type": "code",
   "execution_count": null,
   "metadata": {},
   "outputs": [],
   "source": [
    "from sqlalchemy import create_engine, Column, Integer, String, Text, DateTime, func\n",
    "from sqlalchemy.orm import sessionmaker, declarative_base\n",
    "from datetime import datetime\n",
    "\n",
    "# 데이터베이스 설정\n",
    "date = datetime.now().strftime(\"%Y-%m-%d\")\n",
    "DATABASE_URL = f\"sqlite:///./chatbot.db_{date}\"\n",
    "\n",
    "engine = create_engine(DATABASE_URL, connect_args={\"check_same_thread\": False})\n",
    "SessionLocal = sessionmaker(autocommit=False, autoflush=False, bind=engine)\n",
    "\n",
    "Base = declarative_base()\n",
    "\n",
    "# 🟢 1️⃣ 채팅 기록 테이블 모델 정의\n",
    "\n",
    "\n",
    "class ChatHistory(Base):\n",
    "    __tablename__ = \"chat_history\"\n",
    "\n",
    "    id = Column(Integer, primary_key=True, autoincrement=True)  # 자동 증가 PK\n",
    "    uuid = Column(String, nullable=False, index=True)  # 챗팅룸 ID\n",
    "    question = Column(Text, nullable=False)  # 사용자 질문\n",
    "    response = Column(Text, nullable=False)  # 챗봇 응답\n",
    "    question_timestamp = Column(DateTime, default=func.now())  # 질문 시간\n",
    "    response_timestamp = Column(DateTime, default=func.now())  # 응답 시간\n",
    "\n",
    "\n",
    "# 테이블 생성\n",
    "Base.metadata.create_all(bind=engine)"
   ]
  },
  {
   "cell_type": "code",
   "execution_count": 13,
   "metadata": {},
   "outputs": [
    {
     "data": {
      "text/plain": [
       "'2025-02-18'"
      ]
     },
     "execution_count": 13,
     "metadata": {},
     "output_type": "execute_result"
    }
   ],
   "source": [
    "datetime.now().strftime(\"%Y-%m-%d\")"
   ]
  },
  {
   "cell_type": "code",
   "execution_count": 31,
   "metadata": {},
   "outputs": [
    {
     "data": {
      "text/html": [
       "<div>\n",
       "<style scoped>\n",
       "    .dataframe tbody tr th:only-of-type {\n",
       "        vertical-align: middle;\n",
       "    }\n",
       "\n",
       "    .dataframe tbody tr th {\n",
       "        vertical-align: top;\n",
       "    }\n",
       "\n",
       "    .dataframe thead th {\n",
       "        text-align: right;\n",
       "    }\n",
       "</style>\n",
       "<table border=\"1\" class=\"dataframe\">\n",
       "  <thead>\n",
       "    <tr style=\"text-align: right;\">\n",
       "      <th></th>\n",
       "      <th>id</th>\n",
       "      <th>uuid</th>\n",
       "      <th>question</th>\n",
       "      <th>response</th>\n",
       "      <th>question_timestamp</th>\n",
       "      <th>response_timestamp</th>\n",
       "    </tr>\n",
       "  </thead>\n",
       "  <tbody>\n",
       "    <tr>\n",
       "      <th>0</th>\n",
       "      <td>1</td>\n",
       "      <td>test-4412</td>\n",
       "      <td>안녕</td>\n",
       "      <td>안녕하세요</td>\n",
       "      <td>1739865557</td>\n",
       "      <td>1739865557</td>\n",
       "    </tr>\n",
       "  </tbody>\n",
       "</table>\n",
       "</div>"
      ],
      "text/plain": [
       "   id       uuid question response question_timestamp response_timestamp\n",
       "0   1  test-4412       안녕    안녕하세요         1739865557         1739865557"
      ]
     },
     "execution_count": 31,
     "metadata": {},
     "output_type": "execute_result"
    }
   ],
   "source": [
    "import sqlite3\n",
    "from datetime import datetime\n",
    "import pandas as pd\n",
    "\n",
    "conn = sqlite3.connect(\"chatbot_2025-02-18.db\")\n",
    "\n",
    "query = \"SELECT * FROM chat_history\"\n",
    "df = pd.read_sql_query(query, conn)\n",
    "conn.close()\n",
    "\n",
    "df.head()"
   ]
  },
  {
   "cell_type": "code",
   "execution_count": 49,
   "metadata": {},
   "outputs": [
    {
     "data": {
      "text/plain": [
       "'/home/taejong_kim/workspace/rag-lab/database/conversation'"
      ]
     },
     "execution_count": 49,
     "metadata": {},
     "output_type": "execute_result"
    }
   ],
   "source": [
    "import os\n",
    "\n",
    "CURRENT_PATH = os.getcwd()\n",
    "PARENT_PATH = os.path.dirname(CURRENT_PATH)\n",
    "DATABASE_PATH = os.path.join(PARENT_PATH, 'database')\n",
    "CONVERSATION_DATABASE_PATH = os.path.join(DATABASE_PATH, 'conversation')\n",
    "\n",
    "CONVERSATION_DATABASE_PATH"
   ]
  },
  {
   "cell_type": "code",
   "execution_count": 54,
   "metadata": {},
   "outputs": [
    {
     "data": {
      "text/plain": [
       "'/home/taejong_kim/workspace/rag-lab/database/conversation/chatbot_2025-02-18.db'"
      ]
     },
     "execution_count": 54,
     "metadata": {},
     "output_type": "execute_result"
    }
   ],
   "source": [
    "path"
   ]
  },
  {
   "cell_type": "code",
   "execution_count": 65,
   "metadata": {},
   "outputs": [
    {
     "data": {
      "text/html": [
       "<div>\n",
       "<style scoped>\n",
       "    .dataframe tbody tr th:only-of-type {\n",
       "        vertical-align: middle;\n",
       "    }\n",
       "\n",
       "    .dataframe tbody tr th {\n",
       "        vertical-align: top;\n",
       "    }\n",
       "\n",
       "    .dataframe thead th {\n",
       "        text-align: right;\n",
       "    }\n",
       "</style>\n",
       "<table border=\"1\" class=\"dataframe\">\n",
       "  <thead>\n",
       "    <tr style=\"text-align: right;\">\n",
       "      <th></th>\n",
       "      <th>id</th>\n",
       "      <th>uuid</th>\n",
       "      <th>question</th>\n",
       "      <th>response</th>\n",
       "      <th>question_timestamp</th>\n",
       "      <th>response_timestamp</th>\n",
       "    </tr>\n",
       "  </thead>\n",
       "  <tbody>\n",
       "    <tr>\n",
       "      <th>0</th>\n",
       "      <td>1</td>\n",
       "      <td>7f2e47dd-3222-4ab5-a85c-70c6643e3432</td>\n",
       "      <td>안녕</td>\n",
       "      <td>안녕하세요</td>\n",
       "      <td>1739923625</td>\n",
       "      <td>1739923625</td>\n",
       "    </tr>\n",
       "    <tr>\n",
       "      <th>1</th>\n",
       "      <td>2</td>\n",
       "      <td>3b3bc310-10f9-4289-b979-d220279d230e</td>\n",
       "      <td>안녕</td>\n",
       "      <td>안녕하세요</td>\n",
       "      <td>1739923894</td>\n",
       "      <td>1739923894</td>\n",
       "    </tr>\n",
       "    <tr>\n",
       "      <th>2</th>\n",
       "      <td>3</td>\n",
       "      <td>9b6a12d0-4fb2-4fee-90d1-c0106cd89d97</td>\n",
       "      <td>넌 이름이 뭐니</td>\n",
       "      <td>죄송합니다. 이해할 수 없습니다.</td>\n",
       "      <td>1739923898</td>\n",
       "      <td>1739923898</td>\n",
       "    </tr>\n",
       "    <tr>\n",
       "      <th>3</th>\n",
       "      <td>4</td>\n",
       "      <td>5b59634a-a546-41c8-9ab5-50d81a215513</td>\n",
       "      <td>안녕</td>\n",
       "      <td>안녕하세요</td>\n",
       "      <td>1739923946</td>\n",
       "      <td>1739923946</td>\n",
       "    </tr>\n",
       "    <tr>\n",
       "      <th>4</th>\n",
       "      <td>5</td>\n",
       "      <td>d94ec13b-df56-4fef-b70c-08a9c582949f</td>\n",
       "      <td>안녕</td>\n",
       "      <td>안녕하세요</td>\n",
       "      <td>1739923950</td>\n",
       "      <td>1739923950</td>\n",
       "    </tr>\n",
       "  </tbody>\n",
       "</table>\n",
       "</div>"
      ],
      "text/plain": [
       "   id                                  uuid  question            response  \\\n",
       "0   1  7f2e47dd-3222-4ab5-a85c-70c6643e3432        안녕               안녕하세요   \n",
       "1   2  3b3bc310-10f9-4289-b979-d220279d230e        안녕               안녕하세요   \n",
       "2   3  9b6a12d0-4fb2-4fee-90d1-c0106cd89d97  넌 이름이 뭐니  죄송합니다. 이해할 수 없습니다.   \n",
       "3   4  5b59634a-a546-41c8-9ab5-50d81a215513        안녕               안녕하세요   \n",
       "4   5  d94ec13b-df56-4fef-b70c-08a9c582949f        안녕               안녕하세요   \n",
       "\n",
       "  question_timestamp response_timestamp  \n",
       "0         1739923625         1739923625  \n",
       "1         1739923894         1739923894  \n",
       "2         1739923898         1739923898  \n",
       "3         1739923946         1739923946  \n",
       "4         1739923950         1739923950  "
      ]
     },
     "execution_count": 65,
     "metadata": {},
     "output_type": "execute_result"
    }
   ],
   "source": [
    "import sqlite3\n",
    "from datetime import datetime\n",
    "import pandas as pd\n",
    "\n",
    "path = \"/home/taejong_kim/workspace/rag-lab/database/conversation/conversation_2025-02-19.db\"\n",
    "conn = sqlite3.connect(path)\n",
    "\n",
    "query = \"SELECT * FROM chat_history\"\n",
    "df = pd.read_sql_query(query, conn)\n",
    "conn.close()\n",
    "\n",
    "df.head()"
   ]
  }
 ],
 "metadata": {
  "kernelspec": {
   "display_name": "rag",
   "language": "python",
   "name": "python3"
  },
  "language_info": {
   "codemirror_mode": {
    "name": "ipython",
    "version": 3
   },
   "file_extension": ".py",
   "mimetype": "text/x-python",
   "name": "python",
   "nbconvert_exporter": "python",
   "pygments_lexer": "ipython3",
   "version": "3.12.3"
  }
 },
 "nbformat": 4,
 "nbformat_minor": 2
}
